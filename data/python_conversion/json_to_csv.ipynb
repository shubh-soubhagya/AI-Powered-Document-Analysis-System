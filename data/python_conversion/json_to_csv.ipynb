{
 "cells": [
  {
   "cell_type": "code",
   "execution_count": 21,
   "metadata": {},
   "outputs": [
    {
     "name": "stdout",
     "output_type": "stream",
     "text": [
      "CSV file has been created successfully at ..\\train\\healthcare_senetnces.csv!\n"
     ]
    }
   ],
   "source": [
    "import json\n",
    "import pandas as pd\n",
    "import os\n",
    "\n",
    "# Load the data from the healthcare.json file\n",
    "with open(r'..\\train\\healthcare.json', 'r') as file:\n",
    "    data = json.load(file)\n",
    "\n",
    "# Convert the list of sentences into a DataFrame\n",
    "df_health = pd.DataFrame(data['healthcare_sentences'], columns=['healthcare_sentences'])\n",
    "\n",
    "# Specify the path to save the CSV file\n",
    "output_path = r'..\\train\\healthcare_senetnces.csv'\n",
    "\n",
    "# Ensure the directory exists\n",
    "os.makedirs(os.path.dirname(output_path), exist_ok=True)\n",
    "\n",
    "# Save the DataFrame to the specified CSV path\n",
    "df_health.to_csv(output_path, index=False)\n",
    "\n",
    "print(f\"CSV file has been created successfully at {output_path}!\")\n",
    "\n"
   ]
  },
  {
   "cell_type": "code",
   "execution_count": 22,
   "metadata": {},
   "outputs": [],
   "source": [
    " df_health['Category'] = 'healthcare'"
   ]
  },
  {
   "cell_type": "code",
   "execution_count": 23,
   "metadata": {},
   "outputs": [
    {
     "data": {
      "text/html": [
       "<div>\n",
       "<style scoped>\n",
       "    .dataframe tbody tr th:only-of-type {\n",
       "        vertical-align: middle;\n",
       "    }\n",
       "\n",
       "    .dataframe tbody tr th {\n",
       "        vertical-align: top;\n",
       "    }\n",
       "\n",
       "    .dataframe thead th {\n",
       "        text-align: right;\n",
       "    }\n",
       "</style>\n",
       "<table border=\"1\" class=\"dataframe\">\n",
       "  <thead>\n",
       "    <tr style=\"text-align: right;\">\n",
       "      <th></th>\n",
       "      <th>healthcare_sentences</th>\n",
       "      <th>Category</th>\n",
       "    </tr>\n",
       "  </thead>\n",
       "  <tbody>\n",
       "    <tr>\n",
       "      <th>0</th>\n",
       "      <td>The patient was diagnosed with a chronic respi...</td>\n",
       "      <td>healthcare</td>\n",
       "    </tr>\n",
       "    <tr>\n",
       "      <th>1</th>\n",
       "      <td>The doctor recommended regular exercise to imp...</td>\n",
       "      <td>healthcare</td>\n",
       "    </tr>\n",
       "    <tr>\n",
       "      <th>2</th>\n",
       "      <td>The clinic provides a variety of health servic...</td>\n",
       "      <td>healthcare</td>\n",
       "    </tr>\n",
       "    <tr>\n",
       "      <th>3</th>\n",
       "      <td>It is important to get a full nightâ€™s sleep ...</td>\n",
       "      <td>healthcare</td>\n",
       "    </tr>\n",
       "    <tr>\n",
       "      <th>4</th>\n",
       "      <td>The healthcare provider will conduct a routine...</td>\n",
       "      <td>healthcare</td>\n",
       "    </tr>\n",
       "  </tbody>\n",
       "</table>\n",
       "</div>"
      ],
      "text/plain": [
       "                                healthcare_sentences    Category\n",
       "0  The patient was diagnosed with a chronic respi...  healthcare\n",
       "1  The doctor recommended regular exercise to imp...  healthcare\n",
       "2  The clinic provides a variety of health servic...  healthcare\n",
       "3  It is important to get a full nightâ€™s sleep ...  healthcare\n",
       "4  The healthcare provider will conduct a routine...  healthcare"
      ]
     },
     "execution_count": 23,
     "metadata": {},
     "output_type": "execute_result"
    }
   ],
   "source": [
    "df_health.head()"
   ]
  },
  {
   "cell_type": "code",
   "execution_count": 24,
   "metadata": {},
   "outputs": [
    {
     "data": {
      "text/html": [
       "<div>\n",
       "<style scoped>\n",
       "    .dataframe tbody tr th:only-of-type {\n",
       "        vertical-align: middle;\n",
       "    }\n",
       "\n",
       "    .dataframe tbody tr th {\n",
       "        vertical-align: top;\n",
       "    }\n",
       "\n",
       "    .dataframe thead th {\n",
       "        text-align: right;\n",
       "    }\n",
       "</style>\n",
       "<table border=\"1\" class=\"dataframe\">\n",
       "  <thead>\n",
       "    <tr style=\"text-align: right;\">\n",
       "      <th></th>\n",
       "      <th>Sentences</th>\n",
       "      <th>Category</th>\n",
       "    </tr>\n",
       "  </thead>\n",
       "  <tbody>\n",
       "    <tr>\n",
       "      <th>0</th>\n",
       "      <td>The patient was diagnosed with a chronic respi...</td>\n",
       "      <td>healthcare</td>\n",
       "    </tr>\n",
       "    <tr>\n",
       "      <th>1</th>\n",
       "      <td>The doctor recommended regular exercise to imp...</td>\n",
       "      <td>healthcare</td>\n",
       "    </tr>\n",
       "    <tr>\n",
       "      <th>2</th>\n",
       "      <td>The clinic provides a variety of health servic...</td>\n",
       "      <td>healthcare</td>\n",
       "    </tr>\n",
       "    <tr>\n",
       "      <th>3</th>\n",
       "      <td>It is important to get a full nightâ€™s sleep ...</td>\n",
       "      <td>healthcare</td>\n",
       "    </tr>\n",
       "    <tr>\n",
       "      <th>4</th>\n",
       "      <td>The healthcare provider will conduct a routine...</td>\n",
       "      <td>healthcare</td>\n",
       "    </tr>\n",
       "  </tbody>\n",
       "</table>\n",
       "</div>"
      ],
      "text/plain": [
       "                                           Sentences    Category\n",
       "0  The patient was diagnosed with a chronic respi...  healthcare\n",
       "1  The doctor recommended regular exercise to imp...  healthcare\n",
       "2  The clinic provides a variety of health servic...  healthcare\n",
       "3  It is important to get a full nightâ€™s sleep ...  healthcare\n",
       "4  The healthcare provider will conduct a routine...  healthcare"
      ]
     },
     "execution_count": 24,
     "metadata": {},
     "output_type": "execute_result"
    }
   ],
   "source": [
    "df_health.rename(columns={'healthcare_sentences': 'Sentences'}, inplace=True)\n",
    "df_health.head()\n"
   ]
  },
  {
   "cell_type": "code",
   "execution_count": 41,
   "metadata": {},
   "outputs": [
    {
     "name": "stdout",
     "output_type": "stream",
     "text": [
      "CSV file has been created successfully at ..\\train\\healthcare_senetnces.csv!\n"
     ]
    }
   ],
   "source": [
    "output_path = r'..\\train\\healthcare_senetnces.csv'\n",
    "\n",
    "# Ensure the directory exists\n",
    "os.makedirs(os.path.dirname(output_path), exist_ok=True)\n",
    "\n",
    "# Save the DataFrame to the specified CSV path\n",
    "df_health.to_csv(output_path, index=False)\n",
    "\n",
    "print(f\"CSV file has been created successfully at {output_path}!\")"
   ]
  },
  {
   "cell_type": "code",
   "execution_count": 16,
   "metadata": {},
   "outputs": [
    {
     "name": "stdout",
     "output_type": "stream",
     "text": [
      "CSV file has been created successfully at ..\\train\\financial_sentences.csv!\n"
     ]
    }
   ],
   "source": [
    "import json\n",
    "import pandas as pd\n",
    "import os\n",
    "\n",
    "# Load the data from the healthcare.json file\n",
    "with open(r'..\\train\\fin.json', 'r') as file:\n",
    "    data = json.load(file)\n",
    "\n",
    "# Convert the list of sentences into a DataFrame\n",
    "df_fin = pd.DataFrame(data['financial_sentences'], columns=['financial_sentences'])\n",
    "\n",
    "# Specify the path to save the CSV file\n",
    "output_path = r'..\\train\\financial_sentences.csv'\n",
    "\n",
    "# Ensure the directory exists\n",
    "os.makedirs(os.path.dirname(output_path), exist_ok=True)\n",
    "\n",
    "# Save the DataFrame to the specified CSV path\n",
    "df_fin.to_csv(output_path, index=False)\n",
    "\n",
    "print(f\"CSV file has been created successfully at {output_path}!\")\n",
    "df_fin['Category'] = 'financial'"
   ]
  },
  {
   "cell_type": "code",
   "execution_count": 25,
   "metadata": {},
   "outputs": [
    {
     "data": {
      "text/html": [
       "<div>\n",
       "<style scoped>\n",
       "    .dataframe tbody tr th:only-of-type {\n",
       "        vertical-align: middle;\n",
       "    }\n",
       "\n",
       "    .dataframe tbody tr th {\n",
       "        vertical-align: top;\n",
       "    }\n",
       "\n",
       "    .dataframe thead th {\n",
       "        text-align: right;\n",
       "    }\n",
       "</style>\n",
       "<table border=\"1\" class=\"dataframe\">\n",
       "  <thead>\n",
       "    <tr style=\"text-align: right;\">\n",
       "      <th></th>\n",
       "      <th>Sentences</th>\n",
       "      <th>Category</th>\n",
       "    </tr>\n",
       "  </thead>\n",
       "  <tbody>\n",
       "    <tr>\n",
       "      <th>0</th>\n",
       "      <td>The stock market experienced a significant ris...</td>\n",
       "      <td>financial</td>\n",
       "    </tr>\n",
       "    <tr>\n",
       "      <th>1</th>\n",
       "      <td>Investing in mutual funds can be a good way to...</td>\n",
       "      <td>financial</td>\n",
       "    </tr>\n",
       "    <tr>\n",
       "      <th>2</th>\n",
       "      <td>The Federal Reserve announced an increase in i...</td>\n",
       "      <td>financial</td>\n",
       "    </tr>\n",
       "    <tr>\n",
       "      <th>3</th>\n",
       "      <td>Cryptocurrencies like Bitcoin are highly volat...</td>\n",
       "      <td>financial</td>\n",
       "    </tr>\n",
       "    <tr>\n",
       "      <th>4</th>\n",
       "      <td>It's important to have an emergency fund cover...</td>\n",
       "      <td>financial</td>\n",
       "    </tr>\n",
       "  </tbody>\n",
       "</table>\n",
       "</div>"
      ],
      "text/plain": [
       "                                           Sentences   Category\n",
       "0  The stock market experienced a significant ris...  financial\n",
       "1  Investing in mutual funds can be a good way to...  financial\n",
       "2  The Federal Reserve announced an increase in i...  financial\n",
       "3  Cryptocurrencies like Bitcoin are highly volat...  financial\n",
       "4  It's important to have an emergency fund cover...  financial"
      ]
     },
     "execution_count": 25,
     "metadata": {},
     "output_type": "execute_result"
    }
   ],
   "source": [
    "df_fin.rename(columns={'financial_sentences': 'Sentences'}, inplace=True)\n",
    "df_fin.head()"
   ]
  },
  {
   "cell_type": "code",
   "execution_count": 39,
   "metadata": {},
   "outputs": [
    {
     "name": "stdout",
     "output_type": "stream",
     "text": [
      "CSV file has been created successfully at ..\\train\\financial_sentences.csv!\n"
     ]
    }
   ],
   "source": [
    "output_path = r'..\\train\\financial_sentences.csv'\n",
    "\n",
    "# Ensure the directory exists\n",
    "os.makedirs(os.path.dirname(output_path), exist_ok=True)\n",
    "\n",
    "# Save the DataFrame to the specified CSV path\n",
    "df_fin.to_csv(output_path, index=False)\n",
    "\n",
    "print(f\"CSV file has been created successfully at {output_path}!\")"
   ]
  },
  {
   "cell_type": "code",
   "execution_count": 40,
   "metadata": {},
   "outputs": [
    {
     "data": {
      "text/html": [
       "<div>\n",
       "<style scoped>\n",
       "    .dataframe tbody tr th:only-of-type {\n",
       "        vertical-align: middle;\n",
       "    }\n",
       "\n",
       "    .dataframe tbody tr th {\n",
       "        vertical-align: top;\n",
       "    }\n",
       "\n",
       "    .dataframe thead th {\n",
       "        text-align: right;\n",
       "    }\n",
       "</style>\n",
       "<table border=\"1\" class=\"dataframe\">\n",
       "  <thead>\n",
       "    <tr style=\"text-align: right;\">\n",
       "      <th></th>\n",
       "      <th>Sentences</th>\n",
       "      <th>Category</th>\n",
       "    </tr>\n",
       "  </thead>\n",
       "  <tbody>\n",
       "    <tr>\n",
       "      <th>0</th>\n",
       "      <td>The stock market experienced a significant ris...</td>\n",
       "      <td>financial</td>\n",
       "    </tr>\n",
       "    <tr>\n",
       "      <th>1</th>\n",
       "      <td>Investing in mutual funds can be a good way to...</td>\n",
       "      <td>financial</td>\n",
       "    </tr>\n",
       "    <tr>\n",
       "      <th>2</th>\n",
       "      <td>The Federal Reserve announced an increase in i...</td>\n",
       "      <td>financial</td>\n",
       "    </tr>\n",
       "    <tr>\n",
       "      <th>3</th>\n",
       "      <td>Cryptocurrencies like Bitcoin are highly volat...</td>\n",
       "      <td>financial</td>\n",
       "    </tr>\n",
       "    <tr>\n",
       "      <th>4</th>\n",
       "      <td>It's important to have an emergency fund cover...</td>\n",
       "      <td>financial</td>\n",
       "    </tr>\n",
       "  </tbody>\n",
       "</table>\n",
       "</div>"
      ],
      "text/plain": [
       "                                           Sentences   Category\n",
       "0  The stock market experienced a significant ris...  financial\n",
       "1  Investing in mutual funds can be a good way to...  financial\n",
       "2  The Federal Reserve announced an increase in i...  financial\n",
       "3  Cryptocurrencies like Bitcoin are highly volat...  financial\n",
       "4  It's important to have an emergency fund cover...  financial"
      ]
     },
     "execution_count": 40,
     "metadata": {},
     "output_type": "execute_result"
    }
   ],
   "source": [
    "df_fin.head()"
   ]
  },
  {
   "cell_type": "code",
   "execution_count": 19,
   "metadata": {},
   "outputs": [
    {
     "name": "stdout",
     "output_type": "stream",
     "text": [
      "CSV file has been created successfully at ..\\train\\legal_sentences.csv!\n"
     ]
    }
   ],
   "source": [
    "import json\n",
    "import pandas as pd\n",
    "import os\n",
    "\n",
    "# Load the data from the healthcare.json file\n",
    "with open(r'..\\train\\legal.json', 'r') as file:\n",
    "    data = json.load(file)\n",
    "\n",
    "# Convert the list of sentences into a DataFrame\n",
    "df_legal = pd.DataFrame(data['indian_legal_sentences'], columns=['indian_legal_sentences'])\n",
    "\n",
    "# Specify the path to save the CSV file\n",
    "output_path = r'..\\train\\legal_sentences.csv'\n",
    "\n",
    "# Ensure the directory exists\n",
    "os.makedirs(os.path.dirname(output_path), exist_ok=True)\n",
    "\n",
    "# Save the DataFrame to the specified CSV path\n",
    "df_legal.to_csv(output_path, index=False)\n",
    "\n",
    "print(f\"CSV file has been created successfully at {output_path}!\")\n",
    "df_legal['Category'] = 'legal'"
   ]
  },
  {
   "cell_type": "code",
   "execution_count": 27,
   "metadata": {},
   "outputs": [
    {
     "data": {
      "text/html": [
       "<div>\n",
       "<style scoped>\n",
       "    .dataframe tbody tr th:only-of-type {\n",
       "        vertical-align: middle;\n",
       "    }\n",
       "\n",
       "    .dataframe tbody tr th {\n",
       "        vertical-align: top;\n",
       "    }\n",
       "\n",
       "    .dataframe thead th {\n",
       "        text-align: right;\n",
       "    }\n",
       "</style>\n",
       "<table border=\"1\" class=\"dataframe\">\n",
       "  <thead>\n",
       "    <tr style=\"text-align: right;\">\n",
       "      <th></th>\n",
       "      <th>Sentences</th>\n",
       "      <th>Category</th>\n",
       "    </tr>\n",
       "  </thead>\n",
       "  <tbody>\n",
       "    <tr>\n",
       "      <th>0</th>\n",
       "      <td>Under Article 21 of the Indian Constitution, e...</td>\n",
       "      <td>legal</td>\n",
       "    </tr>\n",
       "    <tr>\n",
       "      <th>1</th>\n",
       "      <td>The Supreme Court of India serves as the apex ...</td>\n",
       "      <td>legal</td>\n",
       "    </tr>\n",
       "    <tr>\n",
       "      <th>2</th>\n",
       "      <td>The Indian Penal Code, 1860, is the primary cr...</td>\n",
       "      <td>legal</td>\n",
       "    </tr>\n",
       "    <tr>\n",
       "      <th>3</th>\n",
       "      <td>The Right to Information Act, 2005, empowers I...</td>\n",
       "      <td>legal</td>\n",
       "    </tr>\n",
       "    <tr>\n",
       "      <th>4</th>\n",
       "      <td>In India, contracts are governed by the Indian...</td>\n",
       "      <td>legal</td>\n",
       "    </tr>\n",
       "  </tbody>\n",
       "</table>\n",
       "</div>"
      ],
      "text/plain": [
       "                                           Sentences Category\n",
       "0  Under Article 21 of the Indian Constitution, e...    legal\n",
       "1  The Supreme Court of India serves as the apex ...    legal\n",
       "2  The Indian Penal Code, 1860, is the primary cr...    legal\n",
       "3  The Right to Information Act, 2005, empowers I...    legal\n",
       "4  In India, contracts are governed by the Indian...    legal"
      ]
     },
     "execution_count": 27,
     "metadata": {},
     "output_type": "execute_result"
    }
   ],
   "source": [
    "df_legal.rename(columns={'indian_legal_sentences': 'Sentences'}, inplace=True)\n",
    "df_legal.head()"
   ]
  },
  {
   "cell_type": "code",
   "execution_count": 37,
   "metadata": {},
   "outputs": [
    {
     "name": "stdout",
     "output_type": "stream",
     "text": [
      "CSV file has been created successfully at ..\\train\\legal_sentences.csv!\n"
     ]
    }
   ],
   "source": [
    "output_path = r'..\\train\\legal_sentences.csv'\n",
    "\n",
    "# Ensure the directory exists\n",
    "os.makedirs(os.path.dirname(output_path), exist_ok=True)\n",
    "\n",
    "# Save the DataFrame to the specified CSV path\n",
    "df_legal.to_csv(output_path, index=False)\n",
    "\n",
    "print(f\"CSV file has been created successfully at {output_path}!\")"
   ]
  },
  {
   "cell_type": "code",
   "execution_count": 38,
   "metadata": {},
   "outputs": [
    {
     "data": {
      "text/html": [
       "<div>\n",
       "<style scoped>\n",
       "    .dataframe tbody tr th:only-of-type {\n",
       "        vertical-align: middle;\n",
       "    }\n",
       "\n",
       "    .dataframe tbody tr th {\n",
       "        vertical-align: top;\n",
       "    }\n",
       "\n",
       "    .dataframe thead th {\n",
       "        text-align: right;\n",
       "    }\n",
       "</style>\n",
       "<table border=\"1\" class=\"dataframe\">\n",
       "  <thead>\n",
       "    <tr style=\"text-align: right;\">\n",
       "      <th></th>\n",
       "      <th>Sentences</th>\n",
       "      <th>Category</th>\n",
       "    </tr>\n",
       "  </thead>\n",
       "  <tbody>\n",
       "    <tr>\n",
       "      <th>0</th>\n",
       "      <td>Under Article 21 of the Indian Constitution, e...</td>\n",
       "      <td>legal</td>\n",
       "    </tr>\n",
       "    <tr>\n",
       "      <th>1</th>\n",
       "      <td>The Supreme Court of India serves as the apex ...</td>\n",
       "      <td>legal</td>\n",
       "    </tr>\n",
       "    <tr>\n",
       "      <th>2</th>\n",
       "      <td>The Indian Penal Code, 1860, is the primary cr...</td>\n",
       "      <td>legal</td>\n",
       "    </tr>\n",
       "    <tr>\n",
       "      <th>3</th>\n",
       "      <td>The Right to Information Act, 2005, empowers I...</td>\n",
       "      <td>legal</td>\n",
       "    </tr>\n",
       "    <tr>\n",
       "      <th>4</th>\n",
       "      <td>In India, contracts are governed by the Indian...</td>\n",
       "      <td>legal</td>\n",
       "    </tr>\n",
       "  </tbody>\n",
       "</table>\n",
       "</div>"
      ],
      "text/plain": [
       "                                           Sentences Category\n",
       "0  Under Article 21 of the Indian Constitution, e...    legal\n",
       "1  The Supreme Court of India serves as the apex ...    legal\n",
       "2  The Indian Penal Code, 1860, is the primary cr...    legal\n",
       "3  The Right to Information Act, 2005, empowers I...    legal\n",
       "4  In India, contracts are governed by the Indian...    legal"
      ]
     },
     "execution_count": 38,
     "metadata": {},
     "output_type": "execute_result"
    }
   ],
   "source": [
    "df_legal.head()"
   ]
  },
  {
   "cell_type": "markdown",
   "metadata": {},
   "source": [
    "# MERGE"
   ]
  },
  {
   "cell_type": "code",
   "execution_count": 42,
   "metadata": {},
   "outputs": [
    {
     "name": "stdout",
     "output_type": "stream",
     "text": [
      "Merged CSV file has been created successfully at ../train/merged_train_sentences.csv!\n"
     ]
    }
   ],
   "source": [
    "import pandas as pd\n",
    "\n",
    "# List of CSV file paths\n",
    "csv_files = [\n",
    "    r'..\\train\\financial_sentences.csv',\n",
    "    r'..\\train\\healthcare_senetnces.csv',\n",
    "    r'..\\train\\legal_sentences.csv'\n",
    "]\n",
    "\n",
    "# Read all CSVs and store them in a list of DataFrames\n",
    "dfs = [pd.read_csv(file) for file in csv_files]\n",
    "\n",
    "# Concatenate all DataFrames vertically (by rows)\n",
    "merged_df = pd.concat(dfs, ignore_index=True)\n",
    "# Specify the output path for the merged CSV\n",
    "output_path = r'../train/merged_train_sentences.csv'\n",
    "\n",
    "# Save the merged DataFrame to the CSV\n",
    "merged_df.to_csv(output_path, index=False)\n",
    "\n",
    "print(f\"Merged CSV file has been created successfully at {output_path}!\")\n"
   ]
  },
  {
   "cell_type": "code",
   "execution_count": 49,
   "metadata": {},
   "outputs": [
    {
     "data": {
      "text/plain": [
       "Category\n",
       "legal         224\n",
       "healthcare    129\n",
       "financial     126\n",
       "Name: count, dtype: int64"
      ]
     },
     "execution_count": 49,
     "metadata": {},
     "output_type": "execute_result"
    }
   ],
   "source": [
    "merged_df['Category'].value_counts()"
   ]
  },
  {
   "cell_type": "code",
   "execution_count": null,
   "metadata": {},
   "outputs": [],
   "source": []
  }
 ],
 "metadata": {
  "kernelspec": {
   "display_name": "Python 3",
   "language": "python",
   "name": "python3"
  },
  "language_info": {
   "codemirror_mode": {
    "name": "ipython",
    "version": 3
   },
   "file_extension": ".py",
   "mimetype": "text/x-python",
   "name": "python",
   "nbconvert_exporter": "python",
   "pygments_lexer": "ipython3",
   "version": "3.12.3"
  }
 },
 "nbformat": 4,
 "nbformat_minor": 2
}
