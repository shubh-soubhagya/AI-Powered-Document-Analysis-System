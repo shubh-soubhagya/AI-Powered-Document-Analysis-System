{
  "cells": [
    {
      "cell_type": "code",
      "execution_count": 2,
      "metadata": {
        "id": "dja0zWen47Mv"
      },
      "outputs": [],
      "source": [
        "import pandas as pd\n",
        "import spacy\n",
        "from spacy.training.example import Example\n",
        "import random"
      ]
    },
    {
      "cell_type": "code",
      "execution_count": 8,
      "metadata": {
        "id": "A4KPyA6o47Mw"
      },
      "outputs": [],
      "source": [
        "df = pd.read_csv(r\"../data/train/merged_train_sentences.csv\")\n"
      ]
    },
    {
      "cell_type": "code",
      "execution_count": 9,
      "metadata": {
        "colab": {
          "base_uri": "https://localhost:8080/",
          "height": 206
        },
        "id": "E2P3CYzp47Mw",
        "outputId": "13f6d349-c55a-4f04-86da-07d8ffdba15a"
      },
      "outputs": [
        {
          "data": {
            "text/html": [
              "<div>\n",
              "<style scoped>\n",
              "    .dataframe tbody tr th:only-of-type {\n",
              "        vertical-align: middle;\n",
              "    }\n",
              "\n",
              "    .dataframe tbody tr th {\n",
              "        vertical-align: top;\n",
              "    }\n",
              "\n",
              "    .dataframe thead th {\n",
              "        text-align: right;\n",
              "    }\n",
              "</style>\n",
              "<table border=\"1\" class=\"dataframe\">\n",
              "  <thead>\n",
              "    <tr style=\"text-align: right;\">\n",
              "      <th></th>\n",
              "      <th>Sentences</th>\n",
              "      <th>Category</th>\n",
              "    </tr>\n",
              "  </thead>\n",
              "  <tbody>\n",
              "    <tr>\n",
              "      <th>0</th>\n",
              "      <td>The stock market experienced a significant ris...</td>\n",
              "      <td>financial</td>\n",
              "    </tr>\n",
              "    <tr>\n",
              "      <th>1</th>\n",
              "      <td>Investing in mutual funds can be a good way to...</td>\n",
              "      <td>financial</td>\n",
              "    </tr>\n",
              "    <tr>\n",
              "      <th>2</th>\n",
              "      <td>The Federal Reserve announced an increase in i...</td>\n",
              "      <td>financial</td>\n",
              "    </tr>\n",
              "    <tr>\n",
              "      <th>3</th>\n",
              "      <td>Cryptocurrencies like Bitcoin are highly volat...</td>\n",
              "      <td>financial</td>\n",
              "    </tr>\n",
              "    <tr>\n",
              "      <th>4</th>\n",
              "      <td>It's important to have an emergency fund cover...</td>\n",
              "      <td>financial</td>\n",
              "    </tr>\n",
              "  </tbody>\n",
              "</table>\n",
              "</div>"
            ],
            "text/plain": [
              "                                           Sentences   Category\n",
              "0  The stock market experienced a significant ris...  financial\n",
              "1  Investing in mutual funds can be a good way to...  financial\n",
              "2  The Federal Reserve announced an increase in i...  financial\n",
              "3  Cryptocurrencies like Bitcoin are highly volat...  financial\n",
              "4  It's important to have an emergency fund cover...  financial"
            ]
          },
          "execution_count": 9,
          "metadata": {},
          "output_type": "execute_result"
        }
      ],
      "source": [
        "df.head()"
      ]
    },
    {
      "cell_type": "code",
      "execution_count": 10,
      "metadata": {
        "colab": {
          "base_uri": "https://localhost:8080/",
          "height": 423
        },
        "id": "SJSHQ49j47Mx",
        "outputId": "a6bd9542-ea7d-48ce-963a-826d78059b27"
      },
      "outputs": [
        {
          "data": {
            "text/html": [
              "<div>\n",
              "<style scoped>\n",
              "    .dataframe tbody tr th:only-of-type {\n",
              "        vertical-align: middle;\n",
              "    }\n",
              "\n",
              "    .dataframe tbody tr th {\n",
              "        vertical-align: top;\n",
              "    }\n",
              "\n",
              "    .dataframe thead th {\n",
              "        text-align: right;\n",
              "    }\n",
              "</style>\n",
              "<table border=\"1\" class=\"dataframe\">\n",
              "  <thead>\n",
              "    <tr style=\"text-align: right;\">\n",
              "      <th></th>\n",
              "      <th>Sentences</th>\n",
              "      <th>Category</th>\n",
              "    </tr>\n",
              "  </thead>\n",
              "  <tbody>\n",
              "    <tr>\n",
              "      <th>0</th>\n",
              "      <td>The stock market experienced a significant ris...</td>\n",
              "      <td>financial</td>\n",
              "    </tr>\n",
              "    <tr>\n",
              "      <th>1</th>\n",
              "      <td>Investing in mutual funds can be a good way to...</td>\n",
              "      <td>financial</td>\n",
              "    </tr>\n",
              "    <tr>\n",
              "      <th>2</th>\n",
              "      <td>The Federal Reserve announced an increase in i...</td>\n",
              "      <td>financial</td>\n",
              "    </tr>\n",
              "    <tr>\n",
              "      <th>3</th>\n",
              "      <td>Cryptocurrencies like Bitcoin are highly volat...</td>\n",
              "      <td>financial</td>\n",
              "    </tr>\n",
              "    <tr>\n",
              "      <th>4</th>\n",
              "      <td>It's important to have an emergency fund cover...</td>\n",
              "      <td>financial</td>\n",
              "    </tr>\n",
              "    <tr>\n",
              "      <th>...</th>\n",
              "      <td>...</td>\n",
              "      <td>...</td>\n",
              "    </tr>\n",
              "    <tr>\n",
              "      <th>3406</th>\n",
              "      <td>Legal prohibitions exist against insider tradi...</td>\n",
              "      <td>legal</td>\n",
              "    </tr>\n",
              "    <tr>\n",
              "      <th>3407</th>\n",
              "      <td>Surveillance laws regulate the use of electron...</td>\n",
              "      <td>legal</td>\n",
              "    </tr>\n",
              "    <tr>\n",
              "      <th>3408</th>\n",
              "      <td>Legal instruments such as affidavits serve as ...</td>\n",
              "      <td>legal</td>\n",
              "    </tr>\n",
              "    <tr>\n",
              "      <th>3409</th>\n",
              "      <td>Public safety laws govern the storage and hand...</td>\n",
              "      <td>legal</td>\n",
              "    </tr>\n",
              "    <tr>\n",
              "      <th>3410</th>\n",
              "      <td>Legal mandates require official documentation ...</td>\n",
              "      <td>legal</td>\n",
              "    </tr>\n",
              "  </tbody>\n",
              "</table>\n",
              "<p>3411 rows × 2 columns</p>\n",
              "</div>"
            ],
            "text/plain": [
              "                                              Sentences   Category\n",
              "0     The stock market experienced a significant ris...  financial\n",
              "1     Investing in mutual funds can be a good way to...  financial\n",
              "2     The Federal Reserve announced an increase in i...  financial\n",
              "3     Cryptocurrencies like Bitcoin are highly volat...  financial\n",
              "4     It's important to have an emergency fund cover...  financial\n",
              "...                                                 ...        ...\n",
              "3406  Legal prohibitions exist against insider tradi...      legal\n",
              "3407  Surveillance laws regulate the use of electron...      legal\n",
              "3408  Legal instruments such as affidavits serve as ...      legal\n",
              "3409  Public safety laws govern the storage and hand...      legal\n",
              "3410  Legal mandates require official documentation ...      legal\n",
              "\n",
              "[3411 rows x 2 columns]"
            ]
          },
          "execution_count": 10,
          "metadata": {},
          "output_type": "execute_result"
        }
      ],
      "source": [
        "df"
      ]
    },
    {
      "cell_type": "code",
      "execution_count": 11,
      "metadata": {
        "id": "OcObv6xu47Mx"
      },
      "outputs": [],
      "source": [
        "import pandas as pd\n",
        "import random\n",
        "import spacy\n",
        "from spacy.training.example import Example\n",
        "from spacy.util import minibatch, compounding\n",
        "from sklearn.model_selection import train_test_split\n",
        "from sklearn.metrics import classification_report, confusion_matrix"
      ]
    },
    {
      "cell_type": "code",
      "execution_count": 12,
      "metadata": {
        "id": "a9ZF_dER47Mx"
      },
      "outputs": [],
      "source": [
        "df.columns = df.columns.str.replace('ï»¿', '')\n"
      ]
    },
    {
      "cell_type": "code",
      "execution_count": 13,
      "metadata": {
        "id": "L4GrYAVV47Mx"
      },
      "outputs": [],
      "source": [
        "category_mapping = {'healthcare': 0, 'financial': 1, 'legal': 2}\n",
        "df['Category'] = df['Category'].map(category_mapping)"
      ]
    },
    {
      "cell_type": "code",
      "execution_count": 14,
      "metadata": {
        "id": "DVEp-_gZ47Mx"
      },
      "outputs": [],
      "source": [
        "train_data, test_data = train_test_split(df, test_size=0.2, random_state=42)\n"
      ]
    },
    {
      "cell_type": "code",
      "execution_count": 15,
      "metadata": {
        "id": "YG46YAzU47My"
      },
      "outputs": [],
      "source": [
        "train_data.reset_index(drop=True, inplace=True)\n",
        "test_data.reset_index(drop=True, inplace=True)"
      ]
    },
    {
      "cell_type": "code",
      "execution_count": 16,
      "metadata": {
        "id": "H0aO5pfB47My"
      },
      "outputs": [],
      "source": [
        "train_texts = train_data['Sentences'].tolist()\n",
        "train_labels = train_data['Category'].tolist()\n",
        "\n",
        "test_texts = test_data['Sentences'].tolist()\n",
        "test_labels = test_data['Category'].tolist()"
      ]
    },
    {
      "cell_type": "code",
      "execution_count": 17,
      "metadata": {
        "id": "cU3VI55l47My"
      },
      "outputs": [],
      "source": [
        "nlp = spacy.blank(\"en\")"
      ]
    },
    {
      "cell_type": "code",
      "execution_count": 18,
      "metadata": {
        "id": "wNCq6HHC47My"
      },
      "outputs": [],
      "source": [
        "if \"textcat\" not in nlp.pipe_names:\n",
        "    textcat = nlp.add_pipe(\"textcat\", last=True)\n",
        "else:\n",
        "    textcat = nlp.get_pipe(\"textcat\")"
      ]
    },
    {
      "cell_type": "code",
      "execution_count": 19,
      "metadata": {
        "id": "6ge_ryCi47My"
      },
      "outputs": [],
      "source": [
        "categories = [0, 1, 2]\n",
        "for category in categories:\n",
        "    textcat.add_label(str(category))"
      ]
    },
    {
      "cell_type": "code",
      "execution_count": 20,
      "metadata": {
        "id": "Wr4NjCPC47Mz"
      },
      "outputs": [],
      "source": [
        "train_data_spacy = []\n",
        "for text, label in zip(train_texts, train_labels):\n",
        "    cats = {str(cat): label == cat for cat in categories}\n",
        "    train_data_spacy.append((text, {\"cats\": cats}))"
      ]
    },
    {
      "cell_type": "code",
      "execution_count": 21,
      "metadata": {
        "id": "JmWzPKbq47Mz"
      },
      "outputs": [],
      "source": [
        "n_iter = 30\n",
        "other_pipes = [pipe for pipe in nlp.pipe_names if pipe != \"textcat\"]"
      ]
    },
    {
      "cell_type": "code",
      "execution_count": 22,
      "metadata": {
        "colab": {
          "base_uri": "https://localhost:8080/"
        },
        "id": "nWhAIni947Mz",
        "outputId": "61c0164a-ae4b-4ce6-adae-dc9113602c9c"
      },
      "outputs": [
        {
          "name": "stdout",
          "output_type": "stream",
          "text": [
            "Iteration 1: Losses {'textcat': 49.40380812653811}\n",
            "Iteration 2: Losses {'textcat': 8.191742793805014}\n",
            "Iteration 3: Losses {'textcat': 2.779398442162477}\n",
            "Iteration 4: Losses {'textcat': 0.9411338781785565}\n",
            "Iteration 5: Losses {'textcat': 1.5730814316157502}\n",
            "Iteration 6: Losses {'textcat': 0.9220932093946635}\n",
            "Iteration 7: Losses {'textcat': 0.810689210555406}\n",
            "Iteration 8: Losses {'textcat': 1.556076085887159}\n",
            "Iteration 9: Losses {'textcat': 1.0167609167563028}\n",
            "Iteration 10: Losses {'textcat': 1.1367946250868866}\n",
            "Iteration 11: Losses {'textcat': 0.8938387533086551}\n",
            "Iteration 12: Losses {'textcat': 1.3803403032367718}\n",
            "Iteration 13: Losses {'textcat': 1.1089562642400215}\n",
            "Iteration 14: Losses {'textcat': 1.2621613832149665}\n",
            "Iteration 15: Losses {'textcat': 1.0617662477107104}\n",
            "Iteration 16: Losses {'textcat': 1.2697210776457684}\n",
            "Iteration 17: Losses {'textcat': 0.786153565616201}\n",
            "Iteration 18: Losses {'textcat': 0.5662016481094749}\n",
            "Iteration 19: Losses {'textcat': 0.11901788413824159}\n",
            "Iteration 20: Losses {'textcat': 0.35267409410814327}\n",
            "Iteration 21: Losses {'textcat': 0.5794448705159744}\n",
            "Iteration 22: Losses {'textcat': 0.6403547376980926}\n",
            "Iteration 23: Losses {'textcat': 0.643433320023282}\n",
            "Iteration 24: Losses {'textcat': 0.765121767323276}\n",
            "Iteration 25: Losses {'textcat': 0.5208981236188693}\n",
            "Iteration 26: Losses {'textcat': 0.11762000061192866}\n",
            "Iteration 27: Losses {'textcat': 0.17439974012374507}\n",
            "Iteration 28: Losses {'textcat': 0.3821468013250817}\n",
            "Iteration 29: Losses {'textcat': 0.0005104734269828009}\n",
            "Iteration 30: Losses {'textcat': 0.6253242005011426}\n"
          ]
        }
      ],
      "source": [
        "with nlp.disable_pipes(*other_pipes):\n",
        "    optimizer = nlp.begin_training()\n",
        "    for i in range(n_iter):\n",
        "        losses = {}\n",
        "        random.shuffle(train_data_spacy)\n",
        "        batches = minibatch(train_data_spacy, size=compounding(4.0, 32.0, 1.001))\n",
        "        for batch in batches:\n",
        "            texts, annotations = zip(*batch)\n",
        "            examples = [Example.from_dict(nlp.make_doc(text), annotation) for text, annotation in zip(texts, annotations)]\n",
        "            nlp.update(examples, sgd=optimizer, drop=0.2, losses=losses)\n",
        "        print(f\"Iteration {i+1}: Losses {losses}\")"
      ]
    },
    {
      "cell_type": "code",
      "execution_count": 23,
      "metadata": {
        "colab": {
          "base_uri": "https://localhost:8080/"
        },
        "id": "A9BGOhhJ47Mz",
        "outputId": "82dff642-f0be-4205-d0d5-c53b00a96e40"
      },
      "outputs": [
        {
          "name": "stdout",
          "output_type": "stream",
          "text": [
            "Model saved to trained_model/\n"
          ]
        }
      ],
      "source": [
        "output_dir = r\"trained_model/\"\n",
        "nlp.to_disk(output_dir)\n",
        "print(f\"Model saved to {output_dir}\")\n"
      ]
    },
    {
      "cell_type": "code",
      "execution_count": 24,
      "metadata": {
        "id": "xxZ7jLgC47Mz"
      },
      "outputs": [],
      "source": [
        "nlp = spacy.load(output_dir)\n"
      ]
    },
    {
      "cell_type": "code",
      "execution_count": 25,
      "metadata": {
        "id": "9ZvUdLPQ47Mz"
      },
      "outputs": [],
      "source": [
        "predicted_labels = []\n",
        "for text in test_texts:\n",
        "    doc = nlp(text)\n",
        "    predicted_label = max(doc.cats, key=doc.cats.get)  # Get the label with the highest confidence\n",
        "    predicted_labels.append(int(predicted_label))"
      ]
    },
    {
      "cell_type": "code",
      "execution_count": 26,
      "metadata": {
        "colab": {
          "base_uri": "https://localhost:8080/"
        },
        "id": "Cl3Fv5of47Mz",
        "outputId": "414516ef-cf79-4fc2-a883-0ca8d8733e56"
      },
      "outputs": [
        {
          "name": "stdout",
          "output_type": "stream",
          "text": [
            "Classification Report:\n",
            "               precision    recall  f1-score   support\n",
            "\n",
            "  healthcare       0.95      0.98      0.97       198\n",
            "   financial       0.97      0.98      0.98       250\n",
            "       legal       0.99      0.94      0.97       235\n",
            "\n",
            "    accuracy                           0.97       683\n",
            "   macro avg       0.97      0.97      0.97       683\n",
            "weighted avg       0.97      0.97      0.97       683\n",
            "\n"
          ]
        }
      ],
      "source": [
        "report = classification_report(test_labels, predicted_labels, target_names=['healthcare', 'financial', 'legal'])\n",
        "print(\"Classification Report:\\n\", report)"
      ]
    },
    {
      "cell_type": "code",
      "execution_count": 27,
      "metadata": {
        "colab": {
          "base_uri": "https://localhost:8080/"
        },
        "id": "6hVBwrCT47Mz",
        "outputId": "2739468f-18a2-401d-dc5a-e99748fa8829"
      },
      "outputs": [
        {
          "name": "stdout",
          "output_type": "stream",
          "text": [
            "Confusion Matrix:\n",
            " [[195   2   1]\n",
            " [  3 246   1]\n",
            " [  8   6 221]]\n"
          ]
        }
      ],
      "source": [
        "conf_matrix = confusion_matrix(test_labels, predicted_labels, labels=categories)\n",
        "print(\"Confusion Matrix:\\n\", conf_matrix)"
      ]
    },
    {
      "cell_type": "code",
      "execution_count": 28,
      "metadata": {
        "id": "AmE7D_Qk47M0"
      },
      "outputs": [],
      "source": [
        "test_csv_path = r'../data/train/merged_train_sentences.csv'  # Update with actual test CSV file path\n",
        "test_df = pd.read_csv(test_csv_path)"
      ]
    },
    {
      "cell_type": "code",
      "execution_count": 29,
      "metadata": {
        "id": "1NR050HZ47M0"
      },
      "outputs": [],
      "source": [
        "test_texts = test_df['Sentences'].tolist()\n",
        "test_labels = test_df['Category'].map(category_mapping).tolist()"
      ]
    },
    {
      "cell_type": "code",
      "execution_count": 30,
      "metadata": {
        "id": "yX6ZekhE47M0"
      },
      "outputs": [],
      "source": [
        "predicted_labels = []\n",
        "for text in test_texts:\n",
        "    doc = nlp(text)\n",
        "    predicted_label = max(doc.cats, key=doc.cats.get)  # Get the label with the highest confidence\n",
        "    predicted_labels.append(int(predicted_label))"
      ]
    },
    {
      "cell_type": "code",
      "execution_count": 31,
      "metadata": {
        "colab": {
          "base_uri": "https://localhost:8080/"
        },
        "id": "TWcc2jHx47M0",
        "outputId": "c9654fbd-aca7-4d54-9612-e88bb1094c0b"
      },
      "outputs": [
        {
          "name": "stdout",
          "output_type": "stream",
          "text": [
            "Classification Report:\n",
            "               precision    recall  f1-score   support\n",
            "\n",
            "  healthcare       0.99      1.00      0.99      1121\n",
            "   financial       0.99      1.00      0.99      1109\n",
            "       legal       1.00      0.99      0.99      1181\n",
            "\n",
            "    accuracy                           0.99      3411\n",
            "   macro avg       0.99      0.99      0.99      3411\n",
            "weighted avg       0.99      0.99      0.99      3411\n",
            "\n"
          ]
        }
      ],
      "source": [
        "report = classification_report(test_labels, predicted_labels, target_names=['healthcare', 'financial', 'legal'])\n",
        "print(\"Classification Report:\\n\", report)"
      ]
    },
    {
      "cell_type": "code",
      "execution_count": 32,
      "metadata": {
        "colab": {
          "base_uri": "https://localhost:8080/"
        },
        "id": "-oM5eJyX47M0",
        "outputId": "e9b4b943-40bd-4a2c-8b70-7b6931f569bd"
      },
      "outputs": [
        {
          "name": "stdout",
          "output_type": "stream",
          "text": [
            "Confusion Matrix:\n",
            " [[1118    2    1]\n",
            " [   3 1105    1]\n",
            " [  10    6 1165]]\n"
          ]
        }
      ],
      "source": [
        "conf_matrix = confusion_matrix(test_labels, predicted_labels, labels=categories)\n",
        "print(\"Confusion Matrix:\\n\", conf_matrix)"
      ]
    },
    {
      "cell_type": "code",
      "execution_count": 33,
      "metadata": {
        "id": "acuvseJQ47M0"
      },
      "outputs": [],
      "source": [
        "test_csv_path2 = r'../data/test/output.csv'  # Update with actual test CSV file path\n",
        "test_df2 = pd.read_csv(test_csv_path2)"
      ]
    },
    {
      "cell_type": "code",
      "execution_count": 34,
      "metadata": {
        "id": "C1jrDVNr47M0"
      },
      "outputs": [],
      "source": [
        "test_texts = test_df['Sentences'].tolist()\n",
        "test_labels = test_df['Category'].map(category_mapping).tolist()"
      ]
    },
    {
      "cell_type": "code",
      "execution_count": 35,
      "metadata": {
        "id": "Wz9zzFkQ47M1"
      },
      "outputs": [],
      "source": [
        "predicted_labels = []\n",
        "for text in test_texts:\n",
        "    doc = nlp(text)\n",
        "    predicted_label = max(doc.cats, key=doc.cats.get)  # Get the label with the highest confidence\n",
        "    predicted_labels.append(int(predicted_label))"
      ]
    },
    {
      "cell_type": "code",
      "execution_count": 36,
      "metadata": {
        "colab": {
          "base_uri": "https://localhost:8080/"
        },
        "id": "bQG0cNPB47M1",
        "outputId": "783ae371-cb20-4d51-f2d7-5edb826f82ea"
      },
      "outputs": [
        {
          "name": "stdout",
          "output_type": "stream",
          "text": [
            "Classification Report:\n",
            "               precision    recall  f1-score   support\n",
            "\n",
            "  healthcare       0.99      1.00      0.99      1121\n",
            "   financial       0.99      1.00      0.99      1109\n",
            "       legal       1.00      0.99      0.99      1181\n",
            "\n",
            "    accuracy                           0.99      3411\n",
            "   macro avg       0.99      0.99      0.99      3411\n",
            "weighted avg       0.99      0.99      0.99      3411\n",
            "\n"
          ]
        }
      ],
      "source": [
        "report = classification_report(test_labels, predicted_labels, target_names=['healthcare', 'financial', 'legal'])\n",
        "print(\"Classification Report:\\n\", report)"
      ]
    },
    {
      "cell_type": "code",
      "execution_count": null,
      "metadata": {
        "id": "l2bgllAJ47M1"
      },
      "outputs": [],
      "source": []
    }
  ],
  "metadata": {
    "colab": {
      "provenance": []
    },
    "kernelspec": {
      "display_name": "Python 3",
      "language": "python",
      "name": "python3"
    },
    "language_info": {
      "codemirror_mode": {
        "name": "ipython",
        "version": 3
      },
      "file_extension": ".py",
      "mimetype": "text/x-python",
      "name": "python",
      "nbconvert_exporter": "python",
      "pygments_lexer": "ipython3",
      "version": "3.12.3"
    }
  },
  "nbformat": 4,
  "nbformat_minor": 0
}
